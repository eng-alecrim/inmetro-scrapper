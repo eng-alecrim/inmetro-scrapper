{
 "cells": [
  {
   "cell_type": "code",
   "execution_count": 1,
   "metadata": {},
   "outputs": [
    {
     "ename": "ModuleNotFoundError",
     "evalue": "No module named 'webdriver_manager'",
     "output_type": "error",
     "traceback": [
      "\u001b[1;31m---------------------------------------------------------------------------\u001b[0m",
      "\u001b[1;31mModuleNotFoundError\u001b[0m                       Traceback (most recent call last)",
      "Cell \u001b[1;32mIn [1], line 6\u001b[0m\n\u001b[0;32m      4\u001b[0m \u001b[38;5;28;01mimport\u001b[39;00m \u001b[38;5;21;01mtime\u001b[39;00m\n\u001b[0;32m      5\u001b[0m \u001b[38;5;28;01mfrom\u001b[39;00m \u001b[38;5;21;01mselenium\u001b[39;00m \u001b[38;5;28;01mimport\u001b[39;00m webdriver\n\u001b[1;32m----> 6\u001b[0m \u001b[38;5;28;01mfrom\u001b[39;00m \u001b[38;5;21;01mwebdriver_manager\u001b[39;00m\u001b[38;5;21;01m.\u001b[39;00m\u001b[38;5;21;01mchrome\u001b[39;00m \u001b[38;5;28;01mimport\u001b[39;00m ChromeDriverManager\n\u001b[0;32m      7\u001b[0m \u001b[38;5;28;01mfrom\u001b[39;00m \u001b[38;5;21;01mselenium\u001b[39;00m\u001b[38;5;21;01m.\u001b[39;00m\u001b[38;5;21;01mwebdriver\u001b[39;00m\u001b[38;5;21;01m.\u001b[39;00m\u001b[38;5;21;01mchrome\u001b[39;00m\u001b[38;5;21;01m.\u001b[39;00m\u001b[38;5;21;01mservice\u001b[39;00m \u001b[38;5;28;01mimport\u001b[39;00m Service\n\u001b[0;32m      8\u001b[0m \u001b[38;5;28;01mfrom\u001b[39;00m \u001b[38;5;21;01mselenium\u001b[39;00m\u001b[38;5;21;01m.\u001b[39;00m\u001b[38;5;21;01mwebdriver\u001b[39;00m\u001b[38;5;21;01m.\u001b[39;00m\u001b[38;5;21;01mcommon\u001b[39;00m\u001b[38;5;21;01m.\u001b[39;00m\u001b[38;5;21;01mby\u001b[39;00m \u001b[38;5;28;01mimport\u001b[39;00m By\n",
      "\u001b[1;31mModuleNotFoundError\u001b[0m: No module named 'webdriver_manager'"
     ]
    }
   ],
   "source": [
    "# IMPORT LIBRARIES\n",
    "\n",
    "from selenium.webdriver.support.select import Select\n",
    "import time\n",
    "from selenium import webdriver\n",
    "from webdriver_manager.chrome import ChromeDriverManager\n",
    "from selenium.webdriver.chrome.service import Service\n",
    "from selenium.webdriver.common.by import By\n",
    "from selenium.webdriver.chrome.options import Options\n",
    "from time import sleep"
   ]
  },
  {
   "cell_type": "code",
   "execution_count": 22,
   "metadata": {},
   "outputs": [
    {
     "ename": "AttributeError",
     "evalue": "type object 'navegador' has no attribute 'find_element_by_xpath'",
     "output_type": "error",
     "traceback": [
      "\u001b[1;31m---------------------------------------------------------------------------\u001b[0m",
      "\u001b[1;31mAttributeError\u001b[0m                            Traceback (most recent call last)",
      "\u001b[1;32mc:\\Users\\SN1078834\\Downloads\\scrapper.ipynb Célula: 2\u001b[0m in \u001b[0;36m<cell line: 63>\u001b[1;34m()\u001b[0m\n\u001b[0;32m     <a href='vscode-notebook-cell:/c%3A/Users/SN1078834/Downloads/scrapper.ipynb#W1sZmlsZQ%3D%3D?line=50'>51</a>\u001b[0m     options\u001b[39m.\u001b[39madd_argument(\u001b[39m'\u001b[39m\u001b[39m--enable-automation\u001b[39m\u001b[39m'\u001b[39m)\n\u001b[0;32m     <a href='vscode-notebook-cell:/c%3A/Users/SN1078834/Downloads/scrapper.ipynb#W1sZmlsZQ%3D%3D?line=53'>54</a>\u001b[0m \u001b[39m# GET BROWSER CHROME\u001b[39;00m\n\u001b[0;32m     <a href='vscode-notebook-cell:/c%3A/Users/SN1078834/Downloads/scrapper.ipynb#W1sZmlsZQ%3D%3D?line=54'>55</a>\u001b[0m \u001b[39m# navegador = webdriver.Chrome(service=ServiceControl(executable_path=ChromeDriverManager().install()))\u001b[39;00m\n\u001b[0;32m     <a href='vscode-notebook-cell:/c%3A/Users/SN1078834/Downloads/scrapper.ipynb#W1sZmlsZQ%3D%3D?line=55'>56</a>\u001b[0m \n\u001b[1;32m   (...)\u001b[0m\n\u001b[0;32m     <a href='vscode-notebook-cell:/c%3A/Users/SN1078834/Downloads/scrapper.ipynb#W1sZmlsZQ%3D%3D?line=60'>61</a>\u001b[0m \n\u001b[0;32m     <a href='vscode-notebook-cell:/c%3A/Users/SN1078834/Downloads/scrapper.ipynb#W1sZmlsZQ%3D%3D?line=61'>62</a>\u001b[0m \u001b[39m# FIND THE XPATH OF THE ELEMENT U WANT AND CLICK\u001b[39;00m\n\u001b[1;32m---> <a href='vscode-notebook-cell:/c%3A/Users/SN1078834/Downloads/scrapper.ipynb#W1sZmlsZQ%3D%3D?line=62'>63</a>\u001b[0m dropdown \u001b[39m=\u001b[39m navegador\u001b[39m.\u001b[39;49mfind_element_by_xpath(\u001b[39m'\u001b[39m\u001b[39m//*[@id=\u001b[39m\u001b[39m\"\u001b[39m\u001b[39mclasse_produto\u001b[39m\u001b[39m\"\u001b[39m\u001b[39m]\u001b[39m\u001b[39m'\u001b[39m)\n\u001b[0;32m     <a href='vscode-notebook-cell:/c%3A/Users/SN1078834/Downloads/scrapper.ipynb#W1sZmlsZQ%3D%3D?line=63'>64</a>\u001b[0m dd \u001b[39m=\u001b[39m Select(dropdown)\n\u001b[0;32m     <a href='vscode-notebook-cell:/c%3A/Users/SN1078834/Downloads/scrapper.ipynb#W1sZmlsZQ%3D%3D?line=65'>66</a>\u001b[0m \u001b[39m# CHOOSE THE DROP DOWN MENU WHAT U WANT TO FIND\u001b[39;00m\n",
      "\u001b[1;31mAttributeError\u001b[0m: type object 'navegador' has no attribute 'find_element_by_xpath'"
     ]
    }
   ],
   "source": [
    "# INPUT NAME OF OPTION U WANT TO FIND\n",
    "\n",
    "\n",
    "\n",
    "finder_text = input()\n",
    "\n",
    "#Agente Redutor Líquido de Nox Automotivo (ARLA 32) - PT Inmetro nº 139/2011/PT Inmetro nº 213/2021\n",
    "\n",
    "\n",
    "# SLEEP TIME TO PUT THE OPTION  \n",
    "#time.sleep(5)\n",
    "\n",
    "class navegador():\n",
    "    \n",
    "    def __init__(self):\n",
    "        self.chrome_service = Service(ChromeDriverManager().install())\n",
    "        self.driver = webdriver.Chrome(service=self.chrome_service, options=options)\n",
    "\n",
    "\n",
    "    def abrir(self):\n",
    "\n",
    "        try:\n",
    "            self.driver.get(\"http://www.inmetro.gov.br/prodcert/certificados/busca.asp\")\n",
    "            return self.driver\n",
    "\n",
    "        except Exception as e:\n",
    "            raise(\"Erro ao abrir o navegador: \" + str(e))\n",
    "\n",
    "\n",
    "    def fazer_logout(self):\n",
    "        self.driver.quit()\n",
    "    \n",
    "    options=Options()\n",
    "    #options.add_argument(\"--window-size=1366,780\")\n",
    "    #options.add_argument('--headless')\n",
    "    options.add_argument('-ignore-certificate-errors')\n",
    "    options.add_argument('-ignore-ssl-errors')\n",
    "    options.add_argument(\"--disable-notifications\")\n",
    "    options.add_argument('--ignore-certificate-errors')\n",
    "    options.add_argument('--allow-running-insecure-content')\n",
    "    options.add_argument(\"--disable-extensions\")\n",
    "    options.add_argument(\"--proxy-server='direct://'\")\n",
    "    options.add_argument(\"--proxy-bypass-list=*\")\n",
    "    options.add_argument(\"--start-maximized\")\n",
    "    options.add_argument('--disable-infobars')\n",
    "    options.add_argument('--disable-gpu')\n",
    "    options.add_argument('--disable-dev-shm-usage')\n",
    "    options.add_argument('--no-sandbox')\n",
    "    options.add_argument('--force-renderer-accessibility')\n",
    "    options.add_argument('--ignore-ssl-errors')\n",
    "    options.add_argument('--enable-automation')\n",
    "\n",
    "\n",
    "# GET BROWSER CHROME\n",
    "# navegador = webdriver.Chrome(service=ServiceControl(executable_path=ChromeDriverManager().install()))\n",
    "\n",
    "\n",
    "# ENTER AT A LINK YOU PASSED\n",
    "# navegador.get('http://www.inmetro.gov.br/prodcert/certificados/busca.asp')\n",
    "\n",
    "\n",
    "# FIND THE XPATH OF THE ELEMENT U WANT AND CLICK\n",
    "dropdown = navegador.find_element_by_xpath('//*[@id=\"classe_produto\"]')\n",
    "dd = Select(dropdown)\n",
    "\n",
    "# CHOOSE THE DROP DOWN MENU WHAT U WANT TO FIND\n",
    "dd.select_by_visible_text(finder_text)\n",
    "\n",
    "\n",
    "# CLICK TO SEARCH\n",
    "navegador.find_element('/html/body/table[3]/tbody/tr[2]/td[2]/form/table[5]/tbody/tr/td[1]/input').click()\n",
    "\n",
    "\n",
    "# COPY HEADER TEXT FROM BODY PAGE\n",
    "element = navegador.find_element_by_css_selector(\"td.listagem\") \n",
    "header = element.text\n",
    "print(header)\n",
    "\n",
    "\n",
    "element2 = navegador.find_element_by_css_selector('tr')\n",
    "company = element2.text\n",
    "#print(company)\n",
    "\n",
    "'''\n",
    "find nth chil in find_element_by_css_selector\n",
    "\n",
    "find_element_by_css_selector('td.titulo_tabela:nth-child(1)')\n",
    "find_element_by_css_selector('td.titulo_tabela:nth-child(2)')\n",
    "find_element_by_css_selector('td.titulo_tabela:nth-child(3)')\n",
    "find_element_by_css_selector('td.titulo_tabela:nth-child(4)')\n",
    "find_element_by_css_selector('td.titulo_tabela:nth-child(5)')\n",
    "find_element_by_css_selector('td.titulo_tabela:nth-child(6)')\n",
    "\n",
    "\n",
    "'''"
   ]
  },
  {
   "cell_type": "code",
   "execution_count": 2,
   "metadata": {},
   "outputs": [],
   "source": [
    "from selenium import webdriver\n",
    "from selenium.webdriver.chrome.service import Service\n",
    "\n",
    "def geoLocationTest():\n",
    "    driver = webdriver.Chrome()\n",
    "    Map_coordinates = dict({\n",
    "        \"latitude\": 41.8781,\n",
    "        \"longitude\": -87.6298,\n",
    "        \"accuracy\": 100\n",
    "        })\n",
    "    driver.execute_cdp_cmd(\"Emulation.setGeolocationOverride\", Map_coordinates)\n",
    "    driver.get(\"http://www.inmetro.gov.br/prodcert/certificados/busca.asp\")"
   ]
  },
  {
   "cell_type": "code",
   "execution_count": null,
   "metadata": {},
   "outputs": [],
   "source": []
  }
 ],
 "metadata": {
  "kernelspec": {
   "display_name": "Python 3.10.7 64-bit",
   "language": "python",
   "name": "python3"
  },
  "language_info": {
   "codemirror_mode": {
    "name": "ipython",
    "version": 3
   },
   "file_extension": ".py",
   "mimetype": "text/x-python",
   "name": "python",
   "nbconvert_exporter": "python",
   "pygments_lexer": "ipython3",
   "version": "3.10.7"
  },
  "orig_nbformat": 4,
  "vscode": {
   "interpreter": {
    "hash": "369f2c481f4da34e4445cda3fffd2e751bd1c4d706f27375911949ba6bb62e1c"
   }
  }
 },
 "nbformat": 4,
 "nbformat_minor": 2
}
