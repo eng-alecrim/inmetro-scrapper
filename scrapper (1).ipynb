{
 "cells": [
  {
   "cell_type": "code",
   "execution_count": 1,
   "metadata": {},
   "outputs": [],
   "source": [
    "# IMPORT LIBRARIES\n",
    "from selenium import webdriver\n",
    "from selenium.webdriver.support import select\n",
    "from selenium.webdriver.support.select import Select\n",
    "import time"
   ]
  },
  {
   "cell_type": "code",
   "execution_count": 12,
   "metadata": {},
   "outputs": [
    {
     "name": "stdout",
     "output_type": "stream",
     "text": [
      "Certificador: ABNT     Nº Certificado: 371.001/20   Tipo: Produto   Emissão: 28/01/2020    Validade: 28/01/2024    Status do Certificado: Ativo    Doc.Normativo\n"
     ]
    }
   ],
   "source": [
    "# INPUT NAME OF OPTION U WANT TO FIND\n",
    "finder_text = input()\n",
    "\n",
    "#Agente Redutor Líquido de Nox Automotivo (ARLA 32) - PT Inmetro nº 139/2011/PT Inmetro nº 213/2021\n",
    "\n",
    "\n",
    "# SLEEP TIME TO PUT THE OPTION  \n",
    "#time.sleep(5)\n",
    "\n",
    "\n",
    "# GET BROWSER CHROME\n",
    "navegador = webdriver.Chrome()\n",
    "\n",
    "\n",
    "# ENTER AT A LINK YOU PASSED\n",
    "navegador.get('http://www.inmetro.gov.br/prodcert/certificados/busca.asp')\n",
    "\n",
    "\n",
    "# FIND THE XPATH OF THE ELEMENT U WANT AND CLICK\n",
    "dropdown = navegador.find_element('xpath','//*[@id=\"classe_produto\"]')\n",
    "dd = Select(dropdown)\n",
    "\n",
    "# CHOOSE THE DROP DOWN MENU WHAT U WANT TO FIND\n",
    "dd.select_by_visible_text(finder_text)\n",
    "\n",
    "\n",
    "# CLICK TO SEARCH\n",
    "navegador.find_element('xpath','/html/body/table[3]/tbody/tr[2]/td[2]/form/table[5]/tbody/tr/td[1]/input').click()\n",
    "\n",
    "\n",
    "# COPY HEADER TEXT FROM BODY PAGE\n",
    "element = navegador.find_element('css selector',\"td.listagem\") \n",
    "header = element.text\n",
    "print(header)\n",
    "\n",
    "\n",
    "element2 = navegador.find_element('css selector','tr')\n",
    "company = element2.text\n",
    "#print(company)\n",
    "\n"
   ]
  },
  {
   "cell_type": "code",
   "execution_count": 54,
   "metadata": {},
   "outputs": [
    {
     "data": {
      "text/plain": [
       "['Certificador',\n",
       " 'Nº Certificado',\n",
       " 'Tipo',\n",
       " 'Emissão',\n",
       " 'Validade',\n",
       " 'Status do Certificado']"
      ]
     },
     "execution_count": 54,
     "metadata": {},
     "output_type": "execute_result"
    }
   ],
   "source": [
    "import re\n",
    "exp_reg = r'\\w+ ?\\w+? ?\\w+?:'\n",
    "titulos = [w[:-1] for w in re.findall(exp_reg, header)]\n",
    "titulos\n",
    "# exp_reg = r'\\w+ ?\\w+?:'"
   ]
  }
 ],
 "metadata": {
  "kernelspec": {
   "display_name": "Python 3.10.4 ('conda-data-science')",
   "language": "python",
   "name": "python3"
  },
  "language_info": {
   "codemirror_mode": {
    "name": "ipython",
    "version": 3
   },
   "file_extension": ".py",
   "mimetype": "text/x-python",
   "name": "python",
   "nbconvert_exporter": "python",
   "pygments_lexer": "ipython3",
   "version": "3.10.4"
  },
  "orig_nbformat": 4,
  "vscode": {
   "interpreter": {
    "hash": "b04231180337302b272d6731011497d6e148cb7c1a10b0bcc73af2243e060f28"
   }
  }
 },
 "nbformat": 4,
 "nbformat_minor": 2
}
